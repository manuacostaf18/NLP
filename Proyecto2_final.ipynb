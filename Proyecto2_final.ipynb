{
 "cells": [
  {
   "cell_type": "markdown",
   "id": "017037f5-05b7-4e53-b46e-55c49de92d22",
   "metadata": {
    "id": "017037f5-05b7-4e53-b46e-55c49de92d22"
   },
   "source": [
    "# Proyecto 2: De clasificación a NER\n",
    "\n",
    "Andrés Felipe Gámez, Camilo Andrés Gómez y Manuela Acosta Fajardo"
   ]
  },
  {
   "cell_type": "markdown",
   "id": "902946ae-afe0-4e47-8ff9-edfade62239d",
   "metadata": {
    "id": "902946ae-afe0-4e47-8ff9-edfade62239d"
   },
   "source": [
    "En este proyecto utilizarán [este dataset](https://archive.ics.uci.edu/ml/datasets/Paper+Reviews) que consiste en evaluaciones de diferentes revisores sobre papers (405). Cada evaluación ha sido etiquetada con 5 clases (muy negativo, negativo, 0, neutral, positivo y muy positivo). Este proyecto consiste en realizar una clasificación de este dataset y además identificar que parte de los comentarios hacen referencia a las clases. "
   ]
  },
  {
   "cell_type": "markdown",
   "id": "3dc45e3c-0145-4ac5-a14d-a9d0dd8c49e6",
   "metadata": {
    "id": "3dc45e3c-0145-4ac5-a14d-a9d0dd8c49e6"
   },
   "source": [
    "## Parte 1. Clasificación sencilla de cada revisión"
   ]
  },
  {
   "cell_type": "markdown",
   "id": "2268c2a4-5889-4ebf-a752-ddb9f24fa9a4",
   "metadata": {
    "id": "2268c2a4-5889-4ebf-a752-ddb9f24fa9a4"
   },
   "source": [
    "En esta parte tendrá que hacer un modelo de clasificación usando redes recurrentes (LSTM, GRU), para los cinco tipos de categorias.  Recuerde algunos pasos para realizar la clasificación:\n",
    "\n",
    "1. Lectura de los datos (división en training/validation sets)\n",
    "2. Preprocesamiento del texto (no es necesario ser tanto preprocesamiento como en word2vec, pero si eliminar algunos carácteres o incluso revisar si hay comentarios vacíos). \n",
    "3. Creación del vocabulario y transformación de palabras a índices (y viceversa)\n",
    "4. Creación del \"dataset\" y \"dataloader\" involucrando los pasos 2 y 3.\n",
    "5. Creación del modelo, involucrando embeddings.\n",
    "6. Entrenar y validar (escoger optimizador Adam o AdamW, función de costo apropiada, loops de entrenamiento y validación).\n",
    "7. Modelo listo para producción (modelo para predecir entrando un comentario)\n",
    "8. Pequeña interfaz para predicción usando Gradio."
   ]
  },
  {
   "cell_type": "markdown",
   "id": "e3097b89-f3d3-48a1-b904-f8301f475245",
   "metadata": {
    "id": "e3097b89-f3d3-48a1-b904-f8301f475245"
   },
   "source": [
    "Realice diferentes configuraciones, tamaño del embedding, arquitecturas LSTM o GRU, varias capas, bidireccionalidad, etc. Escoja el mejor modelo. "
   ]
  },
  {
   "cell_type": "markdown",
   "id": "c084bfb2-c0ab-4dad-9c12-a432cbc5b09f",
   "metadata": {
    "id": "c084bfb2-c0ab-4dad-9c12-a432cbc5b09f"
   },
   "source": [
    "-----\n",
    "Es importante que realicen gráficos y visualizaciones que ayuden a la interpretación. No olviden ir analizando y comentando los hallazgos, y sobretodo **concluir**. El entregable es un notebook de Jupyter, debidamente presentado y comentado.\n",
    "\n",
    "- ¿Qué diferencian encuentran con un tipo de clasificación respecto al otro?\n",
    "- ¿Los pesos de una tarea ayudan a la otra?\n",
    "- ¿Es posible analizar o intuir a partir de pesos o activaciones, que parte del texto está ayudando en la parte 1 a clasificar?"
   ]
  },
  {
   "cell_type": "code",
   "execution_count": 1,
   "id": "B27pfpI8dIhp",
   "metadata": {
    "id": "B27pfpI8dIhp"
   },
   "outputs": [],
   "source": [
    "import json\n",
    "import torch\n",
    "import pandas as pd\n",
    "import torch.nn as nn\n",
    "import gradio as gr\n",
    "from torch.utils.data import Dataset\n",
    "from torch.utils.data.dataset import random_split\n",
    "from torch.utils.data import DataLoader\n",
    "from collections import Counter, OrderedDict\n",
    "from torchtext.vocab import vocab\n",
    "from unicodedata import normalize\n",
    "import numpy as np\n",
    "import re\n",
    "\n",
    "import matplotlib.pyplot as plt"
   ]
  },
  {
   "cell_type": "markdown",
   "id": "4rSeo72fadmg",
   "metadata": {
    "id": "4rSeo72fadmg"
   },
   "source": [
    "Cargamos los datos del archivo para obtener el dataframe y eliminamos aquellas revisiones que no tienen comentarios."
   ]
  },
  {
   "cell_type": "code",
   "execution_count": 2,
   "id": "5c259170-4bb7-4a78-aa90-9d4a74032ca4",
   "metadata": {
    "execution": {
     "iopub.execute_input": "2022-03-16T12:39:42.781316Z",
     "iopub.status.busy": "2022-03-16T12:39:42.781113Z",
     "iopub.status.idle": "2022-03-16T12:39:42.789084Z",
     "shell.execute_reply": "2022-03-16T12:39:42.788609Z",
     "shell.execute_reply.started": "2022-03-16T12:39:42.781295Z"
    },
    "id": "5c259170-4bb7-4a78-aa90-9d4a74032ca4",
    "tags": []
   },
   "outputs": [],
   "source": [
    "# load data using Python JSON module\n",
    "with open('reviews.json','r') as f:\n",
    "    data = json.loads(f.read())\n",
    "\n",
    "df = pd.json_normalize(data['paper'], record_path = [\"review\"])\n",
    "\n",
    "#quitando comentarios vacios\n",
    "DF=df['text'][df['text']=='']\n",
    "data=df.drop(DF.index.tolist(),axis=0)"
   ]
  },
  {
   "cell_type": "markdown",
   "id": "cIXdvxyOazRv",
   "metadata": {
    "id": "cIXdvxyOazRv"
   },
   "source": [
    "Definimos las funciones de preprocesamiento del texto, para quitar tildes,pasar a minúsculas, eliminar algunos caracteres especiales como números y guiones."
   ]
  },
  {
   "cell_type": "code",
   "execution_count": 3,
   "id": "zn1nMWeLdBsx",
   "metadata": {
    "id": "zn1nMWeLdBsx"
   },
   "outputs": [],
   "source": [
    "def quitartildes(s):\n",
    "    s = re.sub(\n",
    "            r\"([^n\\u0300-\\u036f]|n(?!\\u0303(?![\\u0300-\\u036f])))[\\u0300-\\u036f]+\", r\"\\1\", \n",
    "            normalize( \"NFD\", s), 0, re.I\n",
    "        )\n",
    "    \n",
    "    return normalize( 'NFC', s)\n",
    "\n",
    "def preprocess_sentence(sentence):\n",
    "\n",
    "  l=(re.sub(r'[(0-9)]','',quitartildes(sentence)).lower().split())\n",
    "  k=[i for i in l if i!='-']\n",
    "  return ' '.join(k)"
   ]
  },
  {
   "cell_type": "code",
   "execution_count": 4,
   "id": "0xTU_m3CdWYu",
   "metadata": {
    "id": "0xTU_m3CdWYu"
   },
   "outputs": [],
   "source": [
    "data['text_clean']=data['text'].apply(preprocess_sentence)"
   ]
  },
  {
   "cell_type": "code",
   "execution_count": 5,
   "id": "dhkM70BjmPvA",
   "metadata": {
    "colab": {
     "base_uri": "https://localhost:8080/",
     "height": 423
    },
    "id": "dhkM70BjmPvA",
    "outputId": "3f0e6bd9-b310-4aa1-eade-24e55f6c6ba4"
   },
   "outputs": [
    {
     "data": {
      "text/html": [
       "\n",
       "  <div id=\"df-3eb1b2cb-776b-4f40-8e94-31f6445be027\">\n",
       "    <div class=\"colab-df-container\">\n",
       "      <div>\n",
       "<style scoped>\n",
       "    .dataframe tbody tr th:only-of-type {\n",
       "        vertical-align: middle;\n",
       "    }\n",
       "\n",
       "    .dataframe tbody tr th {\n",
       "        vertical-align: top;\n",
       "    }\n",
       "\n",
       "    .dataframe thead th {\n",
       "        text-align: right;\n",
       "    }\n",
       "</style>\n",
       "<table border=\"1\" class=\"dataframe\">\n",
       "  <thead>\n",
       "    <tr style=\"text-align: right;\">\n",
       "      <th></th>\n",
       "      <th>confidence</th>\n",
       "      <th>evaluation</th>\n",
       "      <th>id</th>\n",
       "      <th>lan</th>\n",
       "      <th>orientation</th>\n",
       "      <th>remarks</th>\n",
       "      <th>text</th>\n",
       "      <th>timespan</th>\n",
       "      <th>text_clean</th>\n",
       "    </tr>\n",
       "  </thead>\n",
       "  <tbody>\n",
       "    <tr>\n",
       "      <th>0</th>\n",
       "      <td>4</td>\n",
       "      <td>1</td>\n",
       "      <td>1</td>\n",
       "      <td>es</td>\n",
       "      <td>0</td>\n",
       "      <td></td>\n",
       "      <td>- El artículo aborda un problema contingente y...</td>\n",
       "      <td>2010-07-05</td>\n",
       "      <td>el articulo aborda un problema contingente y m...</td>\n",
       "    </tr>\n",
       "    <tr>\n",
       "      <th>1</th>\n",
       "      <td>4</td>\n",
       "      <td>1</td>\n",
       "      <td>2</td>\n",
       "      <td>es</td>\n",
       "      <td>1</td>\n",
       "      <td></td>\n",
       "      <td>El artículo presenta recomendaciones prácticas...</td>\n",
       "      <td>2010-07-05</td>\n",
       "      <td>el articulo presenta recomendaciones practicas...</td>\n",
       "    </tr>\n",
       "    <tr>\n",
       "      <th>2</th>\n",
       "      <td>5</td>\n",
       "      <td>1</td>\n",
       "      <td>3</td>\n",
       "      <td>es</td>\n",
       "      <td>1</td>\n",
       "      <td></td>\n",
       "      <td>- El tema es muy interesante y puede ser de mu...</td>\n",
       "      <td>2010-07-05</td>\n",
       "      <td>el tema es muy interesante y puede ser de much...</td>\n",
       "    </tr>\n",
       "    <tr>\n",
       "      <th>3</th>\n",
       "      <td>4</td>\n",
       "      <td>2</td>\n",
       "      <td>1</td>\n",
       "      <td>es</td>\n",
       "      <td>1</td>\n",
       "      <td></td>\n",
       "      <td>Se explica en forma ordenada y didáctica una e...</td>\n",
       "      <td>2010-07-05</td>\n",
       "      <td>se explica en forma ordenada y didactica una e...</td>\n",
       "    </tr>\n",
       "    <tr>\n",
       "      <th>5</th>\n",
       "      <td>4</td>\n",
       "      <td>2</td>\n",
       "      <td>3</td>\n",
       "      <td>es</td>\n",
       "      <td>0</td>\n",
       "      <td></td>\n",
       "      <td>Los autores describen una metodología para des...</td>\n",
       "      <td>2010-07-05</td>\n",
       "      <td>los autores describen una metodologia para des...</td>\n",
       "    </tr>\n",
       "    <tr>\n",
       "      <th>...</th>\n",
       "      <td>...</td>\n",
       "      <td>...</td>\n",
       "      <td>...</td>\n",
       "      <td>...</td>\n",
       "      <td>...</td>\n",
       "      <td>...</td>\n",
       "      <td>...</td>\n",
       "      <td>...</td>\n",
       "      <td>...</td>\n",
       "    </tr>\n",
       "    <tr>\n",
       "      <th>400</th>\n",
       "      <td>5</td>\n",
       "      <td>-1</td>\n",
       "      <td>1</td>\n",
       "      <td>es</td>\n",
       "      <td>-2</td>\n",
       "      <td></td>\n",
       "      <td>El trabajo pretende ofrecer una visión del uso...</td>\n",
       "      <td>2015-07-05</td>\n",
       "      <td>el trabajo pretende ofrecer una vision del uso...</td>\n",
       "    </tr>\n",
       "    <tr>\n",
       "      <th>401</th>\n",
       "      <td>4</td>\n",
       "      <td>-1</td>\n",
       "      <td>2</td>\n",
       "      <td>es</td>\n",
       "      <td>-1</td>\n",
       "      <td></td>\n",
       "      <td>El paper está bien escrito y de fácil lectura....</td>\n",
       "      <td>2015-07-05</td>\n",
       "      <td>el paper esta bien escrito y de facil lectura....</td>\n",
       "    </tr>\n",
       "    <tr>\n",
       "      <th>402</th>\n",
       "      <td>4</td>\n",
       "      <td>-1</td>\n",
       "      <td>1</td>\n",
       "      <td>es</td>\n",
       "      <td>0</td>\n",
       "      <td></td>\n",
       "      <td>Observación de fondo:  No se presenta un ejemp...</td>\n",
       "      <td>2015-07-05</td>\n",
       "      <td>observacion de fondo: no se presenta un ejempl...</td>\n",
       "    </tr>\n",
       "    <tr>\n",
       "      <th>403</th>\n",
       "      <td>3</td>\n",
       "      <td>1</td>\n",
       "      <td>2</td>\n",
       "      <td>es</td>\n",
       "      <td>-1</td>\n",
       "      <td></td>\n",
       "      <td>Se propone un procedimiento para elaborar máqu...</td>\n",
       "      <td>2015-07-05</td>\n",
       "      <td>se propone un procedimiento para elaborar maqu...</td>\n",
       "    </tr>\n",
       "    <tr>\n",
       "      <th>404</th>\n",
       "      <td>4</td>\n",
       "      <td>1</td>\n",
       "      <td>1</td>\n",
       "      <td>es</td>\n",
       "      <td>-1</td>\n",
       "      <td></td>\n",
       "      <td>El artículo describe básicamente los component...</td>\n",
       "      <td>2015-07-05</td>\n",
       "      <td>el articulo describe basicamente los component...</td>\n",
       "    </tr>\n",
       "  </tbody>\n",
       "</table>\n",
       "<p>399 rows × 9 columns</p>\n",
       "</div>\n",
       "      <button class=\"colab-df-convert\" onclick=\"convertToInteractive('df-3eb1b2cb-776b-4f40-8e94-31f6445be027')\"\n",
       "              title=\"Convert this dataframe to an interactive table.\"\n",
       "              style=\"display:none;\">\n",
       "        \n",
       "  <svg xmlns=\"http://www.w3.org/2000/svg\" height=\"24px\"viewBox=\"0 0 24 24\"\n",
       "       width=\"24px\">\n",
       "    <path d=\"M0 0h24v24H0V0z\" fill=\"none\"/>\n",
       "    <path d=\"M18.56 5.44l.94 2.06.94-2.06 2.06-.94-2.06-.94-.94-2.06-.94 2.06-2.06.94zm-11 1L8.5 8.5l.94-2.06 2.06-.94-2.06-.94L8.5 2.5l-.94 2.06-2.06.94zm10 10l.94 2.06.94-2.06 2.06-.94-2.06-.94-.94-2.06-.94 2.06-2.06.94z\"/><path d=\"M17.41 7.96l-1.37-1.37c-.4-.4-.92-.59-1.43-.59-.52 0-1.04.2-1.43.59L10.3 9.45l-7.72 7.72c-.78.78-.78 2.05 0 2.83L4 21.41c.39.39.9.59 1.41.59.51 0 1.02-.2 1.41-.59l7.78-7.78 2.81-2.81c.8-.78.8-2.07 0-2.86zM5.41 20L4 18.59l7.72-7.72 1.47 1.35L5.41 20z\"/>\n",
       "  </svg>\n",
       "      </button>\n",
       "      \n",
       "  <style>\n",
       "    .colab-df-container {\n",
       "      display:flex;\n",
       "      flex-wrap:wrap;\n",
       "      gap: 12px;\n",
       "    }\n",
       "\n",
       "    .colab-df-convert {\n",
       "      background-color: #E8F0FE;\n",
       "      border: none;\n",
       "      border-radius: 50%;\n",
       "      cursor: pointer;\n",
       "      display: none;\n",
       "      fill: #1967D2;\n",
       "      height: 32px;\n",
       "      padding: 0 0 0 0;\n",
       "      width: 32px;\n",
       "    }\n",
       "\n",
       "    .colab-df-convert:hover {\n",
       "      background-color: #E2EBFA;\n",
       "      box-shadow: 0px 1px 2px rgba(60, 64, 67, 0.3), 0px 1px 3px 1px rgba(60, 64, 67, 0.15);\n",
       "      fill: #174EA6;\n",
       "    }\n",
       "\n",
       "    [theme=dark] .colab-df-convert {\n",
       "      background-color: #3B4455;\n",
       "      fill: #D2E3FC;\n",
       "    }\n",
       "\n",
       "    [theme=dark] .colab-df-convert:hover {\n",
       "      background-color: #434B5C;\n",
       "      box-shadow: 0px 1px 3px 1px rgba(0, 0, 0, 0.15);\n",
       "      filter: drop-shadow(0px 1px 2px rgba(0, 0, 0, 0.3));\n",
       "      fill: #FFFFFF;\n",
       "    }\n",
       "  </style>\n",
       "\n",
       "      <script>\n",
       "        const buttonEl =\n",
       "          document.querySelector('#df-3eb1b2cb-776b-4f40-8e94-31f6445be027 button.colab-df-convert');\n",
       "        buttonEl.style.display =\n",
       "          google.colab.kernel.accessAllowed ? 'block' : 'none';\n",
       "\n",
       "        async function convertToInteractive(key) {\n",
       "          const element = document.querySelector('#df-3eb1b2cb-776b-4f40-8e94-31f6445be027');\n",
       "          const dataTable =\n",
       "            await google.colab.kernel.invokeFunction('convertToInteractive',\n",
       "                                                     [key], {});\n",
       "          if (!dataTable) return;\n",
       "\n",
       "          const docLinkHtml = 'Like what you see? Visit the ' +\n",
       "            '<a target=\"_blank\" href=https://colab.research.google.com/notebooks/data_table.ipynb>data table notebook</a>'\n",
       "            + ' to learn more about interactive tables.';\n",
       "          element.innerHTML = '';\n",
       "          dataTable['output_type'] = 'display_data';\n",
       "          await google.colab.output.renderOutput(dataTable, element);\n",
       "          const docLink = document.createElement('div');\n",
       "          docLink.innerHTML = docLinkHtml;\n",
       "          element.appendChild(docLink);\n",
       "        }\n",
       "      </script>\n",
       "    </div>\n",
       "  </div>\n",
       "  "
      ],
      "text/plain": [
       "    confidence evaluation  id lan orientation remarks  \\\n",
       "0            4          1   1  es           0           \n",
       "1            4          1   2  es           1           \n",
       "2            5          1   3  es           1           \n",
       "3            4          2   1  es           1           \n",
       "5            4          2   3  es           0           \n",
       "..         ...        ...  ..  ..         ...     ...   \n",
       "400          5         -1   1  es          -2           \n",
       "401          4         -1   2  es          -1           \n",
       "402          4         -1   1  es           0           \n",
       "403          3          1   2  es          -1           \n",
       "404          4          1   1  es          -1           \n",
       "\n",
       "                                                  text    timespan  \\\n",
       "0    - El artículo aborda un problema contingente y...  2010-07-05   \n",
       "1    El artículo presenta recomendaciones prácticas...  2010-07-05   \n",
       "2    - El tema es muy interesante y puede ser de mu...  2010-07-05   \n",
       "3    Se explica en forma ordenada y didáctica una e...  2010-07-05   \n",
       "5    Los autores describen una metodología para des...  2010-07-05   \n",
       "..                                                 ...         ...   \n",
       "400  El trabajo pretende ofrecer una visión del uso...  2015-07-05   \n",
       "401  El paper está bien escrito y de fácil lectura....  2015-07-05   \n",
       "402  Observación de fondo:  No se presenta un ejemp...  2015-07-05   \n",
       "403  Se propone un procedimiento para elaborar máqu...  2015-07-05   \n",
       "404  El artículo describe básicamente los component...  2015-07-05   \n",
       "\n",
       "                                            text_clean  \n",
       "0    el articulo aborda un problema contingente y m...  \n",
       "1    el articulo presenta recomendaciones practicas...  \n",
       "2    el tema es muy interesante y puede ser de much...  \n",
       "3    se explica en forma ordenada y didactica una e...  \n",
       "5    los autores describen una metodologia para des...  \n",
       "..                                                 ...  \n",
       "400  el trabajo pretende ofrecer una vision del uso...  \n",
       "401  el paper esta bien escrito y de facil lectura....  \n",
       "402  observacion de fondo: no se presenta un ejempl...  \n",
       "403  se propone un procedimiento para elaborar maqu...  \n",
       "404  el articulo describe basicamente los component...  \n",
       "\n",
       "[399 rows x 9 columns]"
      ]
     },
     "execution_count": 5,
     "metadata": {},
     "output_type": "execute_result"
    }
   ],
   "source": [
    "data"
   ]
  },
  {
   "cell_type": "markdown",
   "id": "8Bj9Qg0kbJEX",
   "metadata": {
    "id": "8Bj9Qg0kbJEX"
   },
   "source": [
    "Tomamos de los notebooks del curso, la clase `TextData` para facilitar el manejo de los datos y la división en training y validación. Por lo que, dividimos los datos en 70% entrenamiento y 30% validación."
   ]
  },
  {
   "cell_type": "code",
   "execution_count": 6,
   "id": "NM4iOxybmxp_",
   "metadata": {
    "id": "NM4iOxybmxp_"
   },
   "outputs": [],
   "source": [
    "class TextData(Dataset):\n",
    "    '''\n",
    "    Dataset basico para leer los datos de tweets\n",
    "    '''\n",
    "    def __init__(self, dataFrame):\n",
    "        super(TextData, self).__init__()\n",
    "        #df = pd.read_csv(filename,encoding='latin-1')\n",
    "        self.df = dataFrame[[\"evaluation\", \"text_clean\"]]\n",
    "        \n",
    "    def __getitem__(self, index):\n",
    "        return self.df.iloc[index,0], self.df.iloc[index,1]\n",
    "    \n",
    "    def __len__(self):\n",
    "        return len(self.df)"
   ]
  },
  {
   "cell_type": "code",
   "execution_count": 7,
   "id": "PW2mQAROmyo4",
   "metadata": {
    "id": "PW2mQAROmyo4"
   },
   "outputs": [],
   "source": [
    "TextD= TextData(data)\n",
    "train_dataset, valid_dataset = random_split(TextD,[int(len(TextD)*0.7),len(TextD) - int(len(TextD)*0.7)], torch.manual_seed(42))"
   ]
  },
  {
   "cell_type": "markdown",
   "id": "vW7lnd4GceD2",
   "metadata": {
    "id": "vW7lnd4GceD2"
   },
   "source": [
    "Ahora, procesando los datos de entrenamiento creamos el vocabulario e introducimos los tokens para palabras desconocidas y de relleno en caso de que se necesitan a la hora de procesar la información para ingresarla a la red."
   ]
  },
  {
   "cell_type": "code",
   "execution_count": 8,
   "id": "ferHSgUPnVDn",
   "metadata": {
    "id": "ferHSgUPnVDn"
   },
   "outputs": [],
   "source": [
    "tok_c = Counter()\n",
    "for label, line in train_dataset:\n",
    "    tokens = line.split()\n",
    "    tok_c.update(tokens)\n",
    "\n",
    "\n",
    "sorted_by_freq_tuples = sorted(tok_c.items(), key=lambda x: x[1], reverse=True)\n",
    "ordered_dict = OrderedDict(sorted_by_freq_tuples)\n",
    "\n",
    "vocab = vocab(ordered_dict)\n",
    "\n",
    "vocab.insert_token(\"<pad>\", 0)\n",
    "vocab.insert_token(\"<unk>\", 1)\n",
    "vocab.set_default_index(1)"
   ]
  },
  {
   "cell_type": "markdown",
   "id": "GJ4vN9-OczII",
   "metadata": {
    "id": "GJ4vN9-OczII"
   },
   "source": [
    "Definimos la función `collate_batch` que procesa el texto para ponerlo en el formato que puede recibir la red. Para ellos usamos dos funciones auxiliares: `text_pipeline` que pasa de palabras a índices y `label_pipeline` que reordena los labels del dataset para que coincidan con las posiciones del arreglo de salida de la red, por ejemplo, la clase *muy negativo* tiene label **-2** pero la función `label_pipeline` la reasigna al label 0 para hacer más fácil el calculo del accuracy y del loss."
   ]
  },
  {
   "cell_type": "code",
   "execution_count": 9,
   "id": "Z2Avms23n-fb",
   "metadata": {
    "id": "Z2Avms23n-fb"
   },
   "outputs": [],
   "source": [
    "device = torch.device('cuda:0' if torch.cuda.is_available() else 'cpu')\n",
    "\n",
    "text_pipeline = lambda x: [vocab[token] for token in x.split()]\n",
    "label_pipeline = lambda x: 0 if int(x)==-2 else (1 if int(x)==-1 else (2 if int(x)==0 else (3 if int(x)==1 else 4 )))\n",
    "\n",
    "def collate_batch(batch):\n",
    "    label_list, text_list, lengths = [], [], []\n",
    "    for _label, _text in batch:\n",
    "        label_list.append(label_pipeline(_label))\n",
    "        processed_text = torch.tensor(text_pipeline(_text),dtype=torch.int64)\n",
    "        text_list.append(processed_text)\n",
    "        lengths.append(processed_text.size(0))\n",
    "    label_list = torch.tensor(label_list)\n",
    "    lengths = torch.tensor(lengths)\n",
    "    padded_text_list = nn.utils.rnn.pad_sequence( text_list, batch_first=True)\n",
    "    return padded_text_list.to(device), label_list.to(device), lengths.to(device)"
   ]
  },
  {
   "cell_type": "markdown",
   "id": "sxEaWbDdd6aN",
   "metadata": {
    "id": "sxEaWbDdd6aN"
   },
   "source": [
    "#### El modelo\n",
    "\n",
    "Se construyo una red neuronal recurrente con:\n",
    "\n",
    "- 2 capas LSTM bidireccionales\n",
    "- 1 capa lineal \n",
    "- 1 capa de dropout con probabilidad 0.4\n",
    "- 1 capa lineal de salida (con dimensión 5 para cada clase)\n",
    "\n"
   ]
  },
  {
   "cell_type": "code",
   "execution_count": 10,
   "id": "4-djYydOqo_s",
   "metadata": {
    "id": "4-djYydOqo_s"
   },
   "outputs": [],
   "source": [
    "class RNN(nn.Module):\n",
    "    def __init__(self, vocab_size, embed_dim, rnn_hidden_size, fc_hidden_size):\n",
    "        super().__init__()\n",
    "        self.embedding = nn.Embedding(vocab_size, \n",
    "                                      embed_dim, \n",
    "                                      padding_idx=0) \n",
    "        self.rnn = nn.LSTM(embed_dim, rnn_hidden_size,num_layers=2, batch_first=True, bidirectional=True)\n",
    "        self.fc1 = nn.Linear(rnn_hidden_size*2, fc_hidden_size)\n",
    "        self.dropout=nn.Dropout(p=0.4)\n",
    "        self.out_l = nn.Linear(fc_hidden_size, 5)\n",
    "\n",
    "    def forward(self, text, lengths):\n",
    "        out = self.embedding(text)\n",
    "        out = nn.utils.rnn.pack_padded_sequence(out, lengths.cpu().numpy(), enforce_sorted=False, batch_first=True)\n",
    "        _, (hidden, cell) = self.rnn(out)\n",
    "        out = torch.cat((hidden[-2, :, :], hidden[-1, :, :]), dim=1)\n",
    "        out = self.fc1(out)\n",
    "        out = self.dropout(out)\n",
    "        out = self.out_l(out)\n",
    "        return out"
   ]
  },
  {
   "cell_type": "markdown",
   "id": "PtptT5Owei2T",
   "metadata": {
    "id": "PtptT5Owei2T"
   },
   "source": [
    "Definimos las funciones para entrenar el modelo y evaluarlo con el conjunto de validación. Tomamos las funciones de los notebooks del curso, haciendo pequeñas modificaciones para adaptarlas a nuestro ejercicio."
   ]
  },
  {
   "cell_type": "code",
   "execution_count": 11,
   "id": "nFgryBCD7c9s",
   "metadata": {
    "id": "nFgryBCD7c9s"
   },
   "outputs": [],
   "source": [
    "def train(dataloader):\n",
    "    model.train()\n",
    "    total_acc, total_loss = 0, 0\n",
    "    for text_batch, label_batch, lengths in dataloader:\n",
    "        optimizer.zero_grad()\n",
    "        pred = model(text_batch, lengths)\n",
    "        loss = loss_fn(pred, label_batch.long())\n",
    "\n",
    "        loss.backward()\n",
    "        optimizer.step()\n",
    "        total_acc += (pred.argmax(axis=1).float() == label_batch).float().sum().item()\n",
    "        total_loss += loss.item()*label_batch.size(0)\n",
    "    return total_acc/len(dataloader.dataset), total_loss/len(dataloader.dataset)\n",
    " \n",
    "def evaluate(dataloader):\n",
    "    model.eval()\n",
    "    total_acc, total_loss = 0, 0\n",
    "    with torch.no_grad():\n",
    "        for text_batch, label_batch, lengths in dataloader:\n",
    "            pred = model(text_batch, lengths)\n",
    "            loss = loss_fn(pred, label_batch.long())\n",
    "            total_acc += (pred.argmax(axis=1).float() == label_batch).float().sum().item()\n",
    "            total_loss += loss.item()*label_batch.size(0)\n",
    "    return total_acc/len(dataloader.dataset), total_loss/len(dataloader.dataset)"
   ]
  },
  {
   "cell_type": "markdown",
   "id": "k31SRm3Fe2Fh",
   "metadata": {
    "id": "k31SRm3Fe2Fh"
   },
   "source": [
    "Inicializamos el modelo usando una dimesión de embedding de 100, 100 neuronas en las capas ocultas de LSTM y 60 neuronas en la capa intermedia lineal. Usamos el optimizador **AdamW** y un learning rate de 0.001. Además empleamos la entropía cruzada como función de costo para entrenar el modelo."
   ]
  },
  {
   "cell_type": "code",
   "execution_count": 12,
   "id": "YHm6K58r9I_2",
   "metadata": {
    "id": "YHm6K58r9I_2"
   },
   "outputs": [],
   "source": [
    "vocab_size = len(vocab)\n",
    "embed_dim = 100\n",
    "rnn_hidden_size = 100\n",
    "fc_hidden_size = 60\n",
    "\n",
    "torch.manual_seed(1)\n",
    "model = RNN(vocab_size, embed_dim, rnn_hidden_size, fc_hidden_size) \n",
    "model = model.to(device)\n",
    "\n",
    "loss_fn = nn.CrossEntropyLoss()\n",
    "optimizer = torch.optim.AdamW(model.parameters(), lr=0.001)"
   ]
  },
  {
   "cell_type": "markdown",
   "id": "ZVBgjohWfigK",
   "metadata": {
    "id": "ZVBgjohWfigK"
   },
   "source": [
    "¡Entrenando el modelo! \n",
    "\n",
    "Usamos 10 epocas porque el modelo es pesado y observamos que entrenar durante más epocas no conducía a mejores resultados."
   ]
  },
  {
   "cell_type": "code",
   "execution_count": 13,
   "id": "C-5GKxSf9OJG",
   "metadata": {
    "colab": {
     "base_uri": "https://localhost:8080/"
    },
    "id": "C-5GKxSf9OJG",
    "outputId": "ce22e21e-849c-4bd0-995d-aefba97a8cc8"
   },
   "outputs": [
    {
     "name": "stdout",
     "output_type": "stream",
     "text": [
      "Epoch 0 => loss: 1.6056 val_loss:1.5931 | accuracy: 0.2007 val_accuracy: 0.2750\n",
      "Epoch 1 => loss: 1.5713 val_loss:1.5835 | accuracy: 0.3333 val_accuracy: 0.2667\n",
      "Epoch 2 => loss: 1.5221 val_loss:1.5685 | accuracy: 0.3943 val_accuracy: 0.2750\n",
      "Epoch 3 => loss: 1.4092 val_loss:1.5971 | accuracy: 0.4158 val_accuracy: 0.2750\n",
      "Epoch 4 => loss: 1.2669 val_loss:1.6538 | accuracy: 0.5161 val_accuracy: 0.2667\n",
      "Epoch 5 => loss: 0.9993 val_loss:1.7066 | accuracy: 0.6487 val_accuracy: 0.3333\n",
      "Epoch 6 => loss: 0.7328 val_loss:1.9064 | accuracy: 0.7384 val_accuracy: 0.3250\n",
      "Epoch 7 => loss: 0.4827 val_loss:2.0956 | accuracy: 0.8315 val_accuracy: 0.2500\n",
      "Epoch 8 => loss: 0.3063 val_loss:2.9646 | accuracy: 0.9211 val_accuracy: 0.2583\n",
      "Epoch 9 => loss: 0.1466 val_loss:2.9666 | accuracy: 0.9498 val_accuracy: 0.2667\n"
     ]
    }
   ],
   "source": [
    "#generando los batchs\n",
    "batch_size = 30  \n",
    "\n",
    "train_dl = DataLoader(train_dataset, batch_size=batch_size, shuffle=True, collate_fn=collate_batch)\n",
    "valid_dl = DataLoader(valid_dataset, batch_size=batch_size, shuffle=False, collate_fn=collate_batch)\n",
    "\n",
    "# entrenando...\n",
    "num_epochs = 10\n",
    "torch.manual_seed(1)\n",
    "train_losses=[]\n",
    "valid_losses=[]\n",
    "train_accs=[]\n",
    "valid_accs=[]\n",
    "for epoch in range(num_epochs):\n",
    "    acc_train, loss_train = train(train_dl)\n",
    "    acc_valid, loss_valid = evaluate(valid_dl)\n",
    "    train_losses.append(loss_train)\n",
    "    train_accs.append(acc_train)\n",
    "    valid_losses.append(loss_valid)\n",
    "    valid_accs.append(acc_valid)\n",
    "    print(f'Epoch {epoch} => loss: {loss_train:.4f} val_loss:{loss_valid:.4f} | accuracy: {acc_train:.4f} val_accuracy: {acc_valid:.4f}')"
   ]
  },
  {
   "cell_type": "code",
   "execution_count": 14,
   "id": "6nAx8q4kAcnQ",
   "metadata": {
    "colab": {
     "base_uri": "https://localhost:8080/",
     "height": 458
    },
    "id": "6nAx8q4kAcnQ",
    "outputId": "5e393f24-dc3f-4e20-93ef-08dd53b5e8ad"
   },
   "outputs": [
    {
     "data": {
      "image/png": "[encoded data removed]",
      "text/plain": [
       "<Figure size 1152x504 with 2 Axes>"
      ]
     },
     "metadata": {
      "needs_background": "light"
     },
     "output_type": "display_data"
    }
   ],
   "source": [
    "fig, ax = plt.subplots(1,2,figsize=(16,7))\n",
    "ax[0].plot(range(num_epochs), train_losses, 'r', label='train')\n",
    "ax[0].plot(range(num_epochs), valid_losses, 'b', label = 'valid')\n",
    "ax[0].set_title('Loss')\n",
    "ax[0].set_xlabel('Epochs')\n",
    "ax[0].legend()\n",
    "\n",
    "ax[1].plot(range(num_epochs), train_accs, 'r', label='train')\n",
    "ax[1].plot(range(num_epochs), valid_accs, 'b', label = 'valid')\n",
    "ax[1].legend()\n",
    "ax[1].set_title('Accuracy')\n",
    "ax[1].set_xlabel('Epochs')\n",
    "plt.show()"
   ]
  },
  {
   "cell_type": "markdown",
   "id": "twKuwAdJfw0x",
   "metadata": {
    "id": "twKuwAdJfw0x"
   },
   "source": [
    "De las gráficas de loss y accuracy para los dos conjuntos de datos, encontramos una tendencia al *overfitting*. Al variar tanto los parámetros de la arquitectura de la red como el tiempo de entrenamiento, observamos que el comportamiento no mejora, por lo que concluimos que el problema sean probablemente los datos (comentarios) que: \n",
    "\n",
    "- No han sido completamente procesados\n",
    "- No brindan información suficiente para que la red aprenda el patrón para asignar correctamente las clases.\n"
   ]
  },
  {
   "cell_type": "markdown",
   "id": "bGhRBhquh3ig",
   "metadata": {
    "id": "bGhRBhquh3ig"
   },
   "source": [
    "### Alistando para producción\n",
    "\n",
    "Se definen las funciones `collate_prod` que procesa el texto para ingresarlo al modelo y la función `evalu` que recibe el texto, lo ingresa al modelo y traduce la salida en las etiquetas originales del dataset."
   ]
  },
  {
   "cell_type": "code",
   "execution_count": 15,
   "id": "E93IwSYJLp9_",
   "metadata": {
    "id": "E93IwSYJLp9_"
   },
   "outputs": [],
   "source": [
    "def collate_prod(batch):\n",
    "    init_tex=preprocess_sentence(batch)\n",
    "    text_list, lengths = [], []\n",
    "    processed_text = torch.tensor(text_pipeline(init_tex),dtype=torch.int64)\n",
    "    lengths.append(processed_text.size(0))\n",
    "    lengths = torch.tensor(lengths)\n",
    "    return processed_text.to(device), lengths.to(device)\n",
    "\n",
    "def evalu(Comentario):\n",
    "  L=['Muy negativo','Negativo','Neutral','Positivo','Muy positivo']\n",
    "  pro_comment,lengt=collate_prod(Comentario)\n",
    "  rep=pro_comment.view(1,pro_comment.shape[0])\n",
    "  pred = model(rep, lengt)\n",
    "  label=pred.argmax(axis=1).float().item()\n",
    "  return [(L[int(label)],str(int(label)))]"
   ]
  },
  {
   "cell_type": "markdown",
   "id": "RAyzwDUiiOQg",
   "metadata": {
    "id": "RAyzwDUiiOQg"
   },
   "source": [
    "#### GUI"
   ]
  },
  {
   "cell_type": "code",
   "execution_count": 16,
   "id": "DIY9UxOPlELj",
   "metadata": {
    "colab": {
     "base_uri": "https://localhost:8080/",
     "height": 0
    },
    "id": "DIY9UxOPlELj",
    "outputId": "11011275-3781-49c2-c0e0-013b83519ef6"
   },
   "outputs": [
    {
     "name": "stdout",
     "output_type": "stream",
     "text": [
      "Colab notebook detected. To show errors in colab notebook, set `debug=True` in `launch()`\n",
      "Running on public URL: https://18723.gradio.app\n",
      "\n",
      "This share link expires in 72 hours. For free permanent hosting, check out Spaces (https://huggingface.co/spaces)\n"
     ]
    },
    {
     "data": {
      "text/html": [
       "\n",
       "        <iframe\n",
       "            width=\"900\"\n",
       "            height=\"500\"\n",
       "            src=\"https://18723.gradio.app\"\n",
       "            frameborder=\"0\"\n",
       "            allowfullscreen\n",
       "        ></iframe>\n",
       "        "
      ],
      "text/plain": [
       "<IPython.lib.display.IFrame at 0x7f437d3bcf90>"
      ]
     },
     "metadata": {},
     "output_type": "display_data"
    },
    {
     "data": {
      "text/plain": [
       "(<fastapi.applications.FastAPI at 0x7f437fa5be50>,\n",
       " 'http://127.0.0.1:7860/',\n",
       " 'https://18723.gradio.app')"
      ]
     },
     "execution_count": 16,
     "metadata": {},
     "output_type": "execute_result"
    }
   ],
   "source": [
    "# Interfaz gráfica\n",
    "iface = gr.Interface(\n",
    "    fn = evalu,\n",
    "    inputs= [\"text\"],\n",
    "    outputs=gr.outputs.HighlightedText(color_map={\"0\": \"red\", \"1\": \"orange\",\"2\":\"gray\",\"3\":\"blue\",\"4\":\"green\"},label='Calificación',show_legend=False),\n",
    "    allow_flagging=\"never\",\n",
    "    title = 'Evaluador de comentarios',\n",
    "    description = 'Ingrese un comentario/review y se le indicará la evaluación del comentario',\n",
    ")\n",
    "\n",
    "iface.launch(share=True)"
   ]
  },
  {
   "cell_type": "markdown",
   "id": "fmPxCDO-ibxc",
   "metadata": {
    "id": "fmPxCDO-ibxc"
   },
   "source": [
    "#### Análisis"
   ]
  },
  {
   "cell_type": "markdown",
   "id": "lOE1KQO687b3",
   "metadata": {
    "id": "lOE1KQO687b3"
   },
   "source": [
    "En este caso, a partir de los pesos directamente no es posible encontrar qué partes de los comentarios aportan más a determinar el label del comentario, porque al hacer el *embedding*, ya no existe una correspondencia entre las palabras y los pesos de la red en sus diferentes capas. Sin embargo, pudimos encontrar algunos patrones relacionados con ciertas palabras en los comentarios y el label asociado. Por ejemplo, la palabra **muy** se relaciona con el label *muy positivo*, dado que siempre que se incluye en un comentario, el modelo le asigna esa clase. Esto se debe, probablemente, a que muchos comentarios del conjunto de entrenamiento que tenian la palabra **muy** estaban clasificados como *muy positivos*. Igualmente, la palabra **no** se asocia con la clase *negativo*, de hecho, algunos comentarios que son positivos si incluyen la palabra **no** serán clasificados como negativos. Por lo que podemos concluir que, en efecto hay palabras que son más importantes al momento de calcular la clase y consideramos que esas palabras importantes se asocian con la frecuencia con la que aparecen al momento de entrenar el modelo."
   ]
  },
  {
   "cell_type": "markdown",
   "id": "9lWrG6AXKmRa",
   "metadata": {
    "id": "9lWrG6AXKmRa"
   },
   "source": [
    "# Parte 2: Problema de clasificación por palabras o frases (NER)"
   ]
  },
  {
   "cell_type": "markdown",
   "id": "uNJogECmttL8",
   "metadata": {
    "id": "uNJogECmttL8"
   },
   "source": [
    "Luego de realizar el debido etiquetado de cada una de las frases pertenecientes a los comentarios del índice 200 al 250, procedemos a crear el dataframe con dichos comentarios y sus etiquetas por frases. Para ello, creamos dos columnas, `data`, donde se encuentra el texto de cada uno de los comentarios, y `label`, donde se encuentran listas con los labels correspondientes a las frases de ese comentario, y las posiciones exactas de estos labels. "
   ]
  },
  {
   "cell_type": "code",
   "execution_count": 17,
   "id": "AzIe0nQSKlkE",
   "metadata": {
    "id": "AzIe0nQSKlkE"
   },
   "outputs": [],
   "source": [
    "df2 = pd.DataFrame(columns = ['text', 'label'])\n",
    "with open('admin.jsonl','r', encoding='cp1252') as f:\n",
    "    str_contents = f.read()\n",
    "    contents_aux = str_contents.split('\\n')\n",
    "    contents = [str(i) for i in contents_aux]\n",
    "    i=0\n",
    "    for line in contents:\n",
    "      try:\n",
    "        data = json.loads(line)\n",
    "        df2.loc[i] = [(data[\"data\"]), list(data[\"label\"])]\n",
    "        i += 1\n",
    "      except:\n",
    "        pass"
   ]
  },
  {
   "cell_type": "code",
   "execution_count": 18,
   "id": "7jgisbYzKzpZ",
   "metadata": {
    "colab": {
     "base_uri": "https://localhost:8080/",
     "height": 206
    },
    "id": "7jgisbYzKzpZ",
    "outputId": "0041f666-a2ad-4f01-8fa3-943d5c34c7f8"
   },
   "outputs": [
    {
     "data": {
      "text/html": [
       "\n",
       "  <div id=\"df-7f0acb33-24aa-4d84-a3c4-0e3567cae9ef\">\n",
       "    <div class=\"colab-df-container\">\n",
       "      <div>\n",
       "<style scoped>\n",
       "    .dataframe tbody tr th:only-of-type {\n",
       "        vertical-align: middle;\n",
       "    }\n",
       "\n",
       "    .dataframe tbody tr th {\n",
       "        vertical-align: top;\n",
       "    }\n",
       "\n",
       "    .dataframe thead th {\n",
       "        text-align: right;\n",
       "    }\n",
       "</style>\n",
       "<table border=\"1\" class=\"dataframe\">\n",
       "  <thead>\n",
       "    <tr style=\"text-align: right;\">\n",
       "      <th></th>\n",
       "      <th>text</th>\n",
       "      <th>label</th>\n",
       "    </tr>\n",
       "  </thead>\n",
       "  <tbody>\n",
       "    <tr>\n",
       "      <th>0</th>\n",
       "      <td>me parece un articulo interesante que pudo cen...</td>\n",
       "      <td>[[0, 33, Positivo], [940, 1053, Neutro]]</td>\n",
       "    </tr>\n",
       "    <tr>\n",
       "      <th>1</th>\n",
       "      <td>. el articulo esta muy mal escrito. por ejempl...</td>\n",
       "      <td>[[2, 34, Muy negativo], [245, 293, Negativo], ...</td>\n",
       "    </tr>\n",
       "    <tr>\n",
       "      <th>2</th>\n",
       "      <td>en mi opinion, siendo la propuesta de muy alto...</td>\n",
       "      <td>[[54, 108, Negativo], [111, 166, Positivo], [3...</td>\n",
       "    </tr>\n",
       "    <tr>\n",
       "      <th>3</th>\n",
       "      <td>el articulo describe los conceptos de data war...</td>\n",
       "      <td>[[239, 263, Negativo], [265, 348, Muy negativo]]</td>\n",
       "    </tr>\n",
       "    <tr>\n",
       "      <th>4</th>\n",
       "      <td>si bien este articulo deja ver una buena canti...</td>\n",
       "      <td>[[8, 60, Positivo], [62, 128, Negativo], [129,...</td>\n",
       "    </tr>\n",
       "  </tbody>\n",
       "</table>\n",
       "</div>\n",
       "      <button class=\"colab-df-convert\" onclick=\"convertToInteractive('df-7f0acb33-24aa-4d84-a3c4-0e3567cae9ef')\"\n",
       "              title=\"Convert this dataframe to an interactive table.\"\n",
       "              style=\"display:none;\">\n",
       "        \n",
       "  <svg xmlns=\"http://www.w3.org/2000/svg\" height=\"24px\"viewBox=\"0 0 24 24\"\n",
       "       width=\"24px\">\n",
       "    <path d=\"M0 0h24v24H0V0z\" fill=\"none\"/>\n",
       "    <path d=\"M18.56 5.44l.94 2.06.94-2.06 2.06-.94-2.06-.94-.94-2.06-.94 2.06-2.06.94zm-11 1L8.5 8.5l.94-2.06 2.06-.94-2.06-.94L8.5 2.5l-.94 2.06-2.06.94zm10 10l.94 2.06.94-2.06 2.06-.94-2.06-.94-.94-2.06-.94 2.06-2.06.94z\"/><path d=\"M17.41 7.96l-1.37-1.37c-.4-.4-.92-.59-1.43-.59-.52 0-1.04.2-1.43.59L10.3 9.45l-7.72 7.72c-.78.78-.78 2.05 0 2.83L4 21.41c.39.39.9.59 1.41.59.51 0 1.02-.2 1.41-.59l7.78-7.78 2.81-2.81c.8-.78.8-2.07 0-2.86zM5.41 20L4 18.59l7.72-7.72 1.47 1.35L5.41 20z\"/>\n",
       "  </svg>\n",
       "      </button>\n",
       "      \n",
       "  <style>\n",
       "    .colab-df-container {\n",
       "      display:flex;\n",
       "      flex-wrap:wrap;\n",
       "      gap: 12px;\n",
       "    }\n",
       "\n",
       "    .colab-df-convert {\n",
       "      background-color: #E8F0FE;\n",
       "      border: none;\n",
       "      border-radius: 50%;\n",
       "      cursor: pointer;\n",
       "      display: none;\n",
       "      fill: #1967D2;\n",
       "      height: 32px;\n",
       "      padding: 0 0 0 0;\n",
       "      width: 32px;\n",
       "    }\n",
       "\n",
       "    .colab-df-convert:hover {\n",
       "      background-color: #E2EBFA;\n",
       "      box-shadow: 0px 1px 2px rgba(60, 64, 67, 0.3), 0px 1px 3px 1px rgba(60, 64, 67, 0.15);\n",
       "      fill: #174EA6;\n",
       "    }\n",
       "\n",
       "    [theme=dark] .colab-df-convert {\n",
       "      background-color: #3B4455;\n",
       "      fill: #D2E3FC;\n",
       "    }\n",
       "\n",
       "    [theme=dark] .colab-df-convert:hover {\n",
       "      background-color: #434B5C;\n",
       "      box-shadow: 0px 1px 3px 1px rgba(0, 0, 0, 0.15);\n",
       "      filter: drop-shadow(0px 1px 2px rgba(0, 0, 0, 0.3));\n",
       "      fill: #FFFFFF;\n",
       "    }\n",
       "  </style>\n",
       "\n",
       "      <script>\n",
       "        const buttonEl =\n",
       "          document.querySelector('#df-7f0acb33-24aa-4d84-a3c4-0e3567cae9ef button.colab-df-convert');\n",
       "        buttonEl.style.display =\n",
       "          google.colab.kernel.accessAllowed ? 'block' : 'none';\n",
       "\n",
       "        async function convertToInteractive(key) {\n",
       "          const element = document.querySelector('#df-7f0acb33-24aa-4d84-a3c4-0e3567cae9ef');\n",
       "          const dataTable =\n",
       "            await google.colab.kernel.invokeFunction('convertToInteractive',\n",
       "                                                     [key], {});\n",
       "          if (!dataTable) return;\n",
       "\n",
       "          const docLinkHtml = 'Like what you see? Visit the ' +\n",
       "            '<a target=\"_blank\" href=https://colab.research.google.com/notebooks/data_table.ipynb>data table notebook</a>'\n",
       "            + ' to learn more about interactive tables.';\n",
       "          element.innerHTML = '';\n",
       "          dataTable['output_type'] = 'display_data';\n",
       "          await google.colab.output.renderOutput(dataTable, element);\n",
       "          const docLink = document.createElement('div');\n",
       "          docLink.innerHTML = docLinkHtml;\n",
       "          element.appendChild(docLink);\n",
       "        }\n",
       "      </script>\n",
       "    </div>\n",
       "  </div>\n",
       "  "
      ],
      "text/plain": [
       "                                                text  \\\n",
       "0  me parece un articulo interesante que pudo cen...   \n",
       "1  . el articulo esta muy mal escrito. por ejempl...   \n",
       "2  en mi opinion, siendo la propuesta de muy alto...   \n",
       "3  el articulo describe los conceptos de data war...   \n",
       "4  si bien este articulo deja ver una buena canti...   \n",
       "\n",
       "                                               label  \n",
       "0           [[0, 33, Positivo], [940, 1053, Neutro]]  \n",
       "1  [[2, 34, Muy negativo], [245, 293, Negativo], ...  \n",
       "2  [[54, 108, Negativo], [111, 166, Positivo], [3...  \n",
       "3   [[239, 263, Negativo], [265, 348, Muy negativo]]  \n",
       "4  [[8, 60, Positivo], [62, 128, Negativo], [129,...  "
      ]
     },
     "execution_count": 18,
     "metadata": {},
     "output_type": "execute_result"
    }
   ],
   "source": [
    "df2.head()"
   ]
  },
  {
   "cell_type": "markdown",
   "id": "dWkrlkRtuv9R",
   "metadata": {
    "id": "dWkrlkRtuv9R"
   },
   "source": [
    "Ahora, creamos una función que, de acuerdo con la lista de labels obtenida de codificar manualmente las frases de cada comentario, nos permite etiquetar cada palabra. En caso de que haya palabras que no estén etiquetadas, pertenecen a la clase `otros`. Además, definimos cada categoría numéricamente, es decir: \n",
    "- Otros = 0\n",
    "- Muy negativo = 1\n",
    "- Negativo = 2\n",
    "- Neutro = 3\n",
    "- Positivo = 4\n",
    "- Muy positivo = 5\n",
    "\n",
    "Definimos, a su vez, una función para quitar la puntuación de los comentarios, para evitar problemas futuros con la codificación de las palabras."
   ]
  },
  {
   "cell_type": "code",
   "execution_count": 19,
   "id": "n6XN2Ufua1Tk",
   "metadata": {
    "id": "n6XN2Ufua1Tk"
   },
   "outputs": [],
   "source": [
    "import copy\n",
    "\n",
    "def quitar(list_text):\n",
    "  new_text = list_text.copy()\n",
    "  dic = ['a', 'o', 'y', 'u', 'e']\n",
    "  for palabra in list_text:\n",
    "    if len(palabra) == 1 and palabra not in dic:\n",
    "      new_text.remove(palabra)\n",
    "  return new_text"
   ]
  },
  {
   "cell_type": "code",
   "execution_count": 20,
   "id": "Cbz-l4uvK1KQ",
   "metadata": {
    "id": "Cbz-l4uvK1KQ"
   },
   "outputs": [],
   "source": [
    "def codificar(texto, labels):\n",
    "  dic_labels = {\"Otros\": 0,\n",
    "                \"Muy negativo\": 1,\n",
    "                \"Negativo\": 2,\n",
    "                \"Neutro\": 3,\n",
    "                \"Positivo\":4,\n",
    "                \"Muy postivo\": 5}\n",
    "  palabras = texto.split()\n",
    "  cod = []\n",
    "  idxs0 = []\n",
    "  idxs1 = []\n",
    "  labels_ = []\n",
    "  for label in labels:\n",
    "    idx0, idx1, lab = label\n",
    "    idxs0.append(idx0)\n",
    "    idxs1.append(idx1)\n",
    "    labels_.append(lab)\n",
    "  for i in range(len(idxs0)):\n",
    "    last = 0 \n",
    "    if i == 0 and idxs0[i] != 0:\n",
    "      cant_palabras3 = len(texto[0: idxs0[i]-1].split())\n",
    "      cod += [dic_labels[\"Otros\"]]*cant_palabras3\n",
    "      last = idxs0[i]-1\n",
    "\n",
    "    cant_palabras = len(texto[idxs0[i]: idxs1[i]].split())\n",
    "    cod += [dic_labels[labels_[i]]]*cant_palabras\n",
    "    last = idxs1[i]\n",
    "    if i < len(idxs0)-1:\n",
    "      cant_palabras2 = len(texto[idxs1[i]+1: idxs0[i+1]].split())\n",
    "      cod += [dic_labels[\"Otros\"]]*cant_palabras2\n",
    "      last = idxs0[i+1]\n",
    "\n",
    "    elif i == len(idxs1)-1 and idxs1[i] != len(texto):\n",
    "      cant_palabras4 = len(texto[idxs1[i]+1:].split())\n",
    "      cod += [dic_labels[\"Otros\"]]*cant_palabras4\n",
    "      last = len(texto)\n",
    "\n",
    "  return cod"
   ]
  },
  {
   "cell_type": "markdown",
   "id": "SV2nH0hRvLyd",
   "metadata": {
    "id": "SV2nH0hRvLyd"
   },
   "source": [
    "Definimos, nuevamente, una clase `TextData2`, que nos permite la división de los datos en datos de entrenamiento y validación. Para ello, una vez más, tomamos el 70% y el 30%, respectivamente. "
   ]
  },
  {
   "cell_type": "code",
   "execution_count": 21,
   "id": "BmpmjIXZK6c9",
   "metadata": {
    "id": "BmpmjIXZK6c9"
   },
   "outputs": [],
   "source": [
    "class TextData2(Dataset):\n",
    "    '''\n",
    "    Dataset basico para leer los datos de tweets\n",
    "    '''\n",
    "    def __init__(self, dataFrame):\n",
    "        super(TextData2, self).__init__()\n",
    "        #df = pd.read_csv(filename,encoding='latin-1')\n",
    "        self.df = dataFrame[[\"label\", \"text\"]]\n",
    "        \n",
    "    def __getitem__(self, index):\n",
    "        return self.df.iloc[index,0], self.df.iloc[index,1]\n",
    "    \n",
    "    def __len__(self):\n",
    "        return len(self.df)"
   ]
  },
  {
   "cell_type": "code",
   "execution_count": 22,
   "id": "uYevaK8WT0ig",
   "metadata": {
    "id": "uYevaK8WT0ig"
   },
   "outputs": [],
   "source": [
    "corpus = df2.iloc[:,0]"
   ]
  },
  {
   "cell_type": "code",
   "execution_count": 23,
   "id": "oe9osRcILGJs",
   "metadata": {
    "id": "oe9osRcILGJs"
   },
   "outputs": [],
   "source": [
    "TextD2 = TextData2(df2)\n",
    "train_dataset, valid_dataset = random_split(TextD2, [int(len(TextD2)*0.7), len(TextD2) - int(len(TextD2)*0.7)], torch.manual_seed(42))"
   ]
  },
  {
   "cell_type": "markdown",
   "id": "17YBzubJveGY",
   "metadata": {
    "id": "17YBzubJveGY"
   },
   "source": [
    "Creamos el vocabulario al procesar los datos de entrenamiento, y nuevamente introducimos los tokens correspondientes a palabras desconocidas y de relleno."
   ]
  },
  {
   "cell_type": "code",
   "execution_count": 24,
   "id": "mML7Y9aoLNJu",
   "metadata": {
    "id": "mML7Y9aoLNJu"
   },
   "outputs": [],
   "source": [
    "from torchtext.vocab import vocab\n",
    "\n",
    "tok_c = Counter()\n",
    "for label, line in train_dataset:\n",
    "    tokens = line.split()\n",
    "    tok_c.update(tokens)\n",
    "\n",
    "\n",
    "sorted_by_freq_tuples = sorted(tok_c.items(), key=lambda x: x[1], reverse=True)\n",
    "ordered_dict = OrderedDict(sorted_by_freq_tuples)\n",
    "\n",
    "vocab = vocab(ordered_dict)\n",
    "\n",
    "vocab.insert_token(\"<pad>\", 0)\n",
    "vocab.insert_token(\"<unk>\", 1)\n",
    "vocab.set_default_index(1)"
   ]
  },
  {
   "cell_type": "markdown",
   "id": "qrVHisgfvvmM",
   "metadata": {
    "id": "qrVHisgfvvmM"
   },
   "source": [
    "Nuevamente definimos funciones que usaremos en el modelo. "
   ]
  },
  {
   "cell_type": "code",
   "execution_count": 25,
   "id": "wSIraH59LQV7",
   "metadata": {
    "id": "wSIraH59LQV7"
   },
   "outputs": [],
   "source": [
    "device = torch.device('cuda:0' if torch.cuda.is_available() else 'cpu')\n",
    "\n",
    "text_pipeline = lambda x: [vocab[token] for token in x.split()]\n",
    "label_pipeline = lambda x, y: [codificar(x,y)]\n",
    "\n",
    "def collate_batch2(batch):\n",
    "    label_list, text_list, lengths = [], [], []\n",
    "    for _labels, _text in batch:\n",
    "        processed_label=torch.tensor(codificar(_text, _labels))      \n",
    "        label_list.append(processed_label)\n",
    "        processed_text = torch.tensor(text_pipeline(_text), \n",
    "                                      dtype=torch.int64)\n",
    "        text_list.append(processed_text)\n",
    "        lengths.append(processed_text.size(0))\n",
    "    lengths = torch.tensor(lengths)\n",
    "    padded_text_list = nn.utils.rnn.pad_sequence(\n",
    "        text_list, batch_first=True)\n",
    "    label_list = nn.utils.rnn.pad_sequence(\n",
    "        label_list, batch_first=True, padding_value=0)\n",
    "    return padded_text_list.to(device), label_list.to(device), lengths.to(device)"
   ]
  },
  {
   "cell_type": "code",
   "execution_count": 26,
   "id": "e_F-i0ctAodX",
   "metadata": {
    "colab": {
     "base_uri": "https://localhost:8080/"
    },
    "id": "e_F-i0ctAodX",
    "outputId": "e2920954-a559-4ce3-9626-0494cf557918"
   },
   "outputs": [
    {
     "name": "stdout",
     "output_type": "stream",
     "text": [
      "torch.Size([15, 319])\n",
      "torch.Size([15, 320])\n"
     ]
    }
   ],
   "source": [
    "from torch.utils.data import DataLoader\n",
    "dataloader = DataLoader(train_dataset, batch_size=15, shuffle=True, collate_fn=collate_batch2)\n",
    "text_batch, label_batch, length_batch = next(iter(dataloader))\n",
    "print(text_batch.shape)\n",
    "print(label_batch.shape)"
   ]
  },
  {
   "cell_type": "markdown",
   "id": "-qMdaW3Uv3JI",
   "metadata": {
    "id": "-qMdaW3Uv3JI"
   },
   "source": [
    "### Modelo\n",
    "Ahora, construimos una red neuronal recurrente con las siguientes capas:\n",
    "- 2 capas LSTM bidireccionales\n",
    "- 1 capa lineal \n",
    "- 1 capa de dropout con probabilidad 0.4\n",
    "- 1 capa lineal de salida (con dimensión 6 para cada clase)"
   ]
  },
  {
   "cell_type": "code",
   "execution_count": 27,
   "id": "aSaFGpX7LUSW",
   "metadata": {
    "id": "aSaFGpX7LUSW"
   },
   "outputs": [],
   "source": [
    "class RNN_NER(nn.Module):\n",
    "    def __init__(self, vocab_size, embed_dim, rnn_hidden_size, fc_hidden_size):\n",
    "        super().__init__()\n",
    "        self.embedding = nn.Embedding(vocab_size, \n",
    "                                      embed_dim, \n",
    "                                      padding_idx=0) \n",
    "        self.rnn = nn.LSTM(embed_dim, fc_hidden_size,num_layers=2, batch_first=True, bidirectional=True)\n",
    "        self.dropout=nn.Dropout(p=0.4)\n",
    "        self.out_l = nn.Linear(fc_hidden_size*2, 6)\n",
    "\n",
    "    def forward(self, text, lengths):\n",
    "        out = self.embedding(text)\n",
    "        out = nn.utils.rnn.pack_padded_sequence(out, lengths.cpu().numpy(), enforce_sorted=False, batch_first=True)\n",
    "        salida, _ = self.rnn(out)\n",
    "        output, lengs = nn.utils.rnn.pad_packed_sequence(salida, batch_first=True)\n",
    "        out = self.dropout(output)\n",
    "        out = self.out_l(out)\n",
    "        return out\n",
    "         "
   ]
  },
  {
   "cell_type": "markdown",
   "id": "7kWWFWDqwJ6b",
   "metadata": {
    "id": "7kWWFWDqwJ6b"
   },
   "source": [
    "A continuación definimos, nuevamente, las funciones para entrenar y evaluar el modelo."
   ]
  },
  {
   "cell_type": "code",
   "execution_count": 28,
   "id": "NIArfkMJLktm",
   "metadata": {
    "id": "NIArfkMJLktm"
   },
   "outputs": [],
   "source": [
    "def loss_by_batch(predictions,labels):\n",
    "    ll=0\n",
    "    #print(\"pred: \",predictions.shape)\n",
    "    #print(\"lab: \",labels.shape)\n",
    "    for i in range(predictions.shape[0]):\n",
    "        mini = min([predictions.shape[1], labels.shape[1]])\n",
    "        ll+=loss_fn(predictions[i,:mini,:], labels[i,:mini])\n",
    "    return ll/predictions.shape[0]\n",
    "\n",
    "def train2(dataloader):\n",
    "    model2.train()\n",
    "    total_acc, total_loss = 0, 0\n",
    "    posiciones=0\n",
    "    for text_batch, label_batch, lengths in dataloader:\n",
    "        #print(text_batch.shape)\n",
    "        #print(label_batch.shape)\n",
    "        optimizer.zero_grad()\n",
    "        pred = model2(text_batch, lengths)\n",
    "        mini = min([pred.shape[1], label_batch.shape[1]])\n",
    "        pred, label_batch = pred[:,:mini,:], label_batch[:,:mini]\n",
    "        posiciones += text_batch.shape[0]*text_batch.shape[1]\n",
    "        loss = loss_by_batch(pred, label_batch.long())\n",
    "        loss.backward()\n",
    "        optimizer.step()\n",
    "        total_acc += (pred.argmax(axis=2).float() == label_batch).float().sum().item()\n",
    "        total_loss += loss.item()*label_batch.size(0)\n",
    "    return total_acc/posiciones, total_loss/posiciones"
   ]
  },
  {
   "cell_type": "markdown",
   "id": "orKgQLD_wS5M",
   "metadata": {
    "id": "orKgQLD_wS5M"
   },
   "source": [
    "Nuestro nuevo modelo es inicializado con una dimensión de embedding de 200, con 200 neuronas ocultas, y 64 neuronas en la capa intermedia lineal. Una vez más, hacemos uso del optimizador **AdamW**, y de una tasa de aprendizaje de 0.001. Entrenamos el modelo con la función de costo de entropía cruzada."
   ]
  },
  {
   "cell_type": "code",
   "execution_count": 29,
   "id": "jgD_K8CqM740",
   "metadata": {
    "colab": {
     "base_uri": "https://localhost:8080/"
    },
    "id": "jgD_K8CqM740",
    "outputId": "34cf0f9e-7d40-4db6-9bf9-e45f4253f29a"
   },
   "outputs": [
    {
     "name": "stdout",
     "output_type": "stream",
     "text": [
      "<bound method Module.parameters of RNN_NER(\n",
      "  (embedding): Embedding(1596, 200, padding_idx=0)\n",
      "  (rnn): LSTM(200, 64, num_layers=2, batch_first=True, bidirectional=True)\n",
      "  (dropout): Dropout(p=0.4, inplace=False)\n",
      "  (out_l): Linear(in_features=128, out_features=6, bias=True)\n",
      ")>\n"
     ]
    }
   ],
   "source": [
    "vocab_size = len(vocab)\n",
    "\n",
    "#Cambiar parametros\n",
    "embed_dim = 200\n",
    "rnn_hidden_size = 200\n",
    "fc_hidden_size = 64\n",
    "\n",
    "torch.manual_seed(1)\n",
    "model2 = RNN_NER(vocab_size, embed_dim, rnn_hidden_size, fc_hidden_size) \n",
    "model2 = model2.to(device)\n",
    "\n",
    "loss_fn = nn.CrossEntropyLoss()\n",
    "optimizer = torch.optim.AdamW(model2.parameters(), lr=0.001)\n",
    "\n",
    "print(model2.parameters)"
   ]
  },
  {
   "cell_type": "markdown",
   "id": "q6fDWfozw9AG",
   "metadata": {
    "id": "q6fDWfozw9AG"
   },
   "source": [
    "### Entrenamiento del modelo\n",
    "\n",
    "Definimos una función para evaluar el modelo, y para entrenar el nuevo modelo, usamos 15 épocas."
   ]
  },
  {
   "cell_type": "code",
   "execution_count": 30,
   "id": "gS1Yj8buhodI",
   "metadata": {
    "id": "gS1Yj8buhodI"
   },
   "outputs": [],
   "source": [
    "def evaluate(dataloader):\n",
    "    model2.eval()\n",
    "    total_acc, total_loss, count = 0, 0, 0\n",
    "    posiciones = 0\n",
    "    with torch.no_grad():\n",
    "        for text_batch, label_batch, lengths in dataloader:\n",
    "            pred = model2(text_batch, lengths)\n",
    "            mini = min([pred.shape[1], label_batch.shape[1]])\n",
    "            pred, label_batch = pred[:,:mini,:], label_batch[:,:mini]\n",
    "            P=pred.argmax(axis=2).float()\n",
    "            loss = loss_by_batch(pred,label_batch.long())\n",
    "            total_acc += (pred.argmax(axis=2).float() == label_batch).float().sum().item()\n",
    "            total_loss += loss.item()*label_batch.size(0)\n",
    "            count += lengths.sum()\n",
    "            posiciones += text_batch.shape[0]*text_batch.shape[1]\n",
    "    return total_acc/posiciones, total_loss/posiciones"
   ]
  },
  {
   "cell_type": "markdown",
   "id": "be69bc96",
   "metadata": {},
   "source": [
    "Entrenamos el modelo con los datos seleccionados para este propósito, y observamos el accuracy y el loss en cada época."
   ]
  },
  {
   "cell_type": "code",
   "execution_count": 31,
   "id": "AhnX_k-FNH_W",
   "metadata": {
    "colab": {
     "base_uri": "https://localhost:8080/"
    },
    "id": "AhnX_k-FNH_W",
    "outputId": "5bc6724e-71a5-49e1-bf34-3d19858f721b"
   },
   "outputs": [
    {
     "name": "stdout",
     "output_type": "stream",
     "text": [
      "Epoch 0 => loss: 0.0066 | accuracy: 0.3172 | val_loss: 0.007970066511467712 | val_accuracy: 0.44315068493150683\n",
      "Epoch 1 => loss: 0.0060 | accuracy: 0.4593 | val_loss: 0.006895026536745446 | val_accuracy: 0.4837383177570094\n",
      "Epoch 2 => loss: 0.0052 | accuracy: 0.7504 | val_loss: 0.006259172448614762 | val_accuracy: 0.8714060031595576\n",
      "Epoch 3 => loss: 0.0047 | accuracy: 0.8776 | val_loss: 0.006072472433719967 | val_accuracy: 0.8714060031595576\n",
      "Epoch 4 => loss: 0.0049 | accuracy: 0.8647 | val_loss: 0.00621348398703116 | val_accuracy: 0.8689210950080515\n",
      "Epoch 5 => loss: 0.0048 | accuracy: 0.8712 | val_loss: 0.006597868049384471 | val_accuracy: 0.8511882998171847\n",
      "Epoch 6 => loss: 0.0046 | accuracy: 0.8683 | val_loss: 0.006225825172581085 | val_accuracy: 0.8606164383561644\n",
      "Epoch 7 => loss: 0.0047 | accuracy: 0.8633 | val_loss: 0.006600410018586154 | val_accuracy: 0.8508226691042048\n",
      "Epoch 8 => loss: 0.0044 | accuracy: 0.8665 | val_loss: 0.006783697243364463 | val_accuracy: 0.8493601462522852\n",
      "Epoch 9 => loss: 0.0042 | accuracy: 0.8869 | val_loss: 0.007222816974632919 | val_accuracy: 0.8446069469835467\n",
      "Epoch 10 => loss: 0.0040 | accuracy: 0.9082 | val_loss: 0.006674987682397815 | val_accuracy: 0.8486312399355878\n",
      "Epoch 11 => loss: 0.0038 | accuracy: 0.9204 | val_loss: 0.007970532384724047 | val_accuracy: 0.8212523719165086\n",
      "Epoch 12 => loss: 0.0036 | accuracy: 0.9372 | val_loss: 0.0072220851833693644 | val_accuracy: 0.8521739130434782\n",
      "Epoch 13 => loss: 0.0035 | accuracy: 0.9396 | val_loss: 0.007295567695408651 | val_accuracy: 0.8256849315068493\n",
      "Epoch 14 => loss: 0.0034 | accuracy: 0.9426 | val_loss: 0.007092293781503493 | val_accuracy: 0.8499210110584519\n"
     ]
    }
   ],
   "source": [
    "batch_size = 5\n",
    "training = DataLoader(train_dataset,  batch_size=int(batch_size), shuffle=True, collate_fn=collate_batch2)\n",
    "valid = DataLoader(valid_dataset,  batch_size=int(batch_size), shuffle=True, collate_fn=collate_batch2)\n",
    "\n",
    "#Entrenando el modelo\n",
    "num_epochs = 15\n",
    "torch.manual_seed(1)\n",
    "train_losses=[]\n",
    "train_accs=[]\n",
    "\n",
    "for epoch in range(num_epochs):\n",
    "  acc_train, loss_train = train2(training)\n",
    "  train_losses.append(loss_train)\n",
    "  train_accs.append(acc_train)\n",
    "  acc_val, val_loss = evaluate(valid)\n",
    "  print(f'Epoch {epoch} => loss: {loss_train:.4f} | accuracy: {acc_train:.4f} | val_loss: {val_loss} | val_accuracy: {acc_val}')"
   ]
  },
  {
   "cell_type": "code",
   "execution_count": 32,
   "id": "SlZnlrhXjLLh",
   "metadata": {
    "id": "SlZnlrhXjLLh"
   },
   "outputs": [],
   "source": [
    "class RNN_NER2(nn.Module):\n",
    "    def __init__(self, vocab_size, embed_dim, rnn_hidden_size, fc_hidden_size):\n",
    "        super().__init__()\n",
    "        self.embedding = nn.Embedding(vocab_size, \n",
    "                                      embed_dim, \n",
    "                                      padding_idx=0) \n",
    "        self.rnn = nn.LSTM(embed_dim, fc_hidden_size,num_layers=2, batch_first=True, bidirectional=True)\n",
    "        self.dropout=nn.Dropout(p=0.4)\n",
    "        self.out_l = nn.Linear(fc_hidden_size*2, 6)\n",
    "\n",
    "    def forward(self, text, lengths):\n",
    "        out = self.embedding(text)\n",
    "        out = nn.utils.rnn.pack_padded_sequence(out, lengths.cpu().numpy(), enforce_sorted=False, batch_first=True)\n",
    "        salida, _ = self.rnn(out)\n",
    "        output, lengs = nn.utils.rnn.pad_packed_sequence(salida, batch_first=True)\n",
    "        out = self.dropout(output)\n",
    "        out = self.out_l(out)\n",
    "        return out"
   ]
  },
  {
   "cell_type": "code",
   "execution_count": 33,
   "id": "GrlHUVZ3n0Dj",
   "metadata": {
    "id": "GrlHUVZ3n0Dj"
   },
   "outputs": [],
   "source": [
    "def evaluate(dataloader):\n",
    "    model3.eval()\n",
    "    total_acc, total_loss, count = 0, 0, 0\n",
    "    posiciones = 0\n",
    "    with torch.no_grad():\n",
    "        for text_batch, label_batch, lengths in dataloader:\n",
    "            pred = model2(text_batch, lengths)\n",
    "            mini = min([pred.shape[1], label_batch.shape[1]])\n",
    "            pred, label_batch = pred[:,:mini,:], label_batch[:,:mini]\n",
    "            P=pred.argmax(axis=2).float()\n",
    "            loss = loss_by_batch(pred,label_batch.long())\n",
    "            total_acc += (pred.argmax(axis=2).float() == label_batch).float().sum().item()\n",
    "            total_loss += loss.item()*label_batch.size(0)\n",
    "            count += lengths.sum()\n",
    "            posiciones += text_batch.shape[0]*text_batch.shape[1]\n",
    "    return total_acc/posiciones, total_loss/posiciones"
   ]
  },
  {
   "cell_type": "code",
   "execution_count": 37,
   "id": "wRStgwuLoNMm",
   "metadata": {
    "id": "wRStgwuLoNMm"
   },
   "outputs": [],
   "source": [
    "def train3(dataloader):\n",
    "    model3.train()\n",
    "    total_acc, total_loss = 0, 0\n",
    "    posiciones=0\n",
    "    for text_batch, label_batch, lengths in dataloader:\n",
    "        #print(text_batch.shape)\n",
    "        #print(label_batch.shape)\n",
    "        optimizer.zero_grad()\n",
    "        pred = model3(text_batch, lengths)\n",
    "        mini = min([pred.shape[1], label_batch.shape[1]])\n",
    "        pred, label_batch = pred[:,:mini,:], label_batch[:,:mini]\n",
    "        posiciones += text_batch.shape[0]*text_batch.shape[1]\n",
    "        loss = loss_by_batch(pred, label_batch.long())\n",
    "        loss.backward()\n",
    "        optimizer.step()\n",
    "        total_acc += (pred.argmax(axis=2).float() == label_batch).float().sum().item()\n",
    "        total_loss += loss.item()*label_batch.size(0)\n",
    "    return total_acc/posiciones, total_loss/posiciones"
   ]
  },
  {
   "cell_type": "markdown",
   "id": "c8fb0c5d",
   "metadata": {},
   "source": [
    "Ahora probamos el modelo con los datos de validación, observando nuevamente el valor del accuracy y del loss en cada época."
   ]
  },
  {
   "cell_type": "code",
   "execution_count": 38,
   "id": "ps9tPsoqngoA",
   "metadata": {
    "colab": {
     "base_uri": "https://localhost:8080/"
    },
    "id": "ps9tPsoqngoA",
    "outputId": "1aa454dd-694a-499b-addb-ff0177f3d71f"
   },
   "outputs": [
    {
     "name": "stdout",
     "output_type": "stream",
     "text": [
      "<bound method Module.parameters of RNN_NER2(\n",
      "  (embedding): Embedding(1596, 200, padding_idx=0)\n",
      "  (rnn): LSTM(200, 64, num_layers=2, batch_first=True, bidirectional=True)\n",
      "  (dropout): Dropout(p=0.4, inplace=False)\n",
      "  (out_l): Linear(in_features=128, out_features=6, bias=True)\n",
      ")>\n"
     ]
    }
   ],
   "source": [
    "vocab_size = len(vocab)\n",
    "\n",
    "#Cambiar parametros\n",
    "embed_dim = 200\n",
    "rnn_hidden_size = 200\n",
    "fc_hidden_size = 64\n",
    "\n",
    "torch.manual_seed(1)\n",
    "model3 = RNN_NER2(vocab_size, embed_dim, rnn_hidden_size, fc_hidden_size) \n",
    "#model3.embedding.weight = model.embedding.weight\n",
    "model3 = model3.to(device)\n",
    "\n",
    "loss_fn = nn.CrossEntropyLoss()\n",
    "optimizer = torch.optim.AdamW(model3.parameters(), lr=0.001)\n",
    "\n",
    "print(model3.parameters)"
   ]
  },
  {
   "cell_type": "code",
   "execution_count": 39,
   "id": "UUq1JmJgoC9S",
   "metadata": {
    "colab": {
     "base_uri": "https://localhost:8080/"
    },
    "id": "UUq1JmJgoC9S",
    "outputId": "dc912ab5-a6b5-4d9d-8c89-516faec556d8"
   },
   "outputs": [
    {
     "name": "stdout",
     "output_type": "stream",
     "text": [
      "Epoch 0 => loss: 0.0066 | accuracy: 0.3172 | val_loss: 0.0075695426904991885 | val_accuracy: 0.8373287671232876\n",
      "Epoch 1 => loss: 0.0060 | accuracy: 0.4593 | val_loss: 0.008233742624799782 | val_accuracy: 0.822429906542056\n",
      "Epoch 2 => loss: 0.0052 | accuracy: 0.7504 | val_loss: 0.007119984611704075 | val_accuracy: 0.8499210110584519\n",
      "Epoch 3 => loss: 0.0047 | accuracy: 0.8776 | val_loss: 0.007032055048769308 | val_accuracy: 0.8499210110584519\n",
      "Epoch 4 => loss: 0.0049 | accuracy: 0.8647 | val_loss: 0.007311162549324466 | val_accuracy: 0.8470209339774557\n",
      "Epoch 5 => loss: 0.0048 | accuracy: 0.8712 | val_loss: 0.008024376968579057 | val_accuracy: 0.8263254113345521\n",
      "Epoch 6 => loss: 0.0046 | accuracy: 0.8683 | val_loss: 0.00767328437060526 | val_accuracy: 0.8373287671232876\n",
      "Epoch 7 => loss: 0.0047 | accuracy: 0.8633 | val_loss: 0.008059420794847897 | val_accuracy: 0.8263254113345521\n",
      "Epoch 8 => loss: 0.0044 | accuracy: 0.8665 | val_loss: 0.008174204957114713 | val_accuracy: 0.8263254113345521\n",
      "Epoch 9 => loss: 0.0042 | accuracy: 0.8869 | val_loss: 0.007905874871248737 | val_accuracy: 0.8263254113345521\n",
      "Epoch 10 => loss: 0.0040 | accuracy: 0.9082 | val_loss: 0.007289945983272436 | val_accuracy: 0.8470209339774557\n",
      "Epoch 11 => loss: 0.0038 | accuracy: 0.9204 | val_loss: 0.008765758554216128 | val_accuracy: 0.8197343453510436\n",
      "Epoch 12 => loss: 0.0036 | accuracy: 0.9372 | val_loss: 0.007293171736737188 | val_accuracy: 0.8470209339774557\n",
      "Epoch 13 => loss: 0.0035 | accuracy: 0.9396 | val_loss: 0.007668015279182016 | val_accuracy: 0.8373287671232876\n",
      "Epoch 14 => loss: 0.0034 | accuracy: 0.9426 | val_loss: 0.007092293781503493 | val_accuracy: 0.8499210110584519\n"
     ]
    }
   ],
   "source": [
    "batch_size = 5\n",
    "training = DataLoader(train_dataset,  batch_size=int(batch_size), shuffle=True, collate_fn=collate_batch2)\n",
    "valid = DataLoader(valid_dataset,  batch_size=int(batch_size), shuffle=True, collate_fn=collate_batch2)\n",
    "\n",
    "#Entrenando el modelo\n",
    "num_epochs = 15\n",
    "torch.manual_seed(1)\n",
    "train_losses=[]\n",
    "train_accs=[]\n",
    "\n",
    "for epoch in range(num_epochs):\n",
    "  acc_train, loss_train = train3(training)\n",
    "  train_losses.append(loss_train)\n",
    "  train_accs.append(acc_train)\n",
    "  acc_val, val_loss = evaluate(valid)\n",
    "  print(f'Epoch {epoch} => loss: {loss_train:.4f} | accuracy: {acc_train:.4f} | val_loss: {val_loss} | val_accuracy: {acc_val}')"
   ]
  },
  {
   "cell_type": "markdown",
   "id": "36a522a9",
   "metadata": {},
   "source": [
    "### Análisis\n",
    "\n",
    "Se observa que, tanto al entrenar el modelo como al probarlo, se obtienen valores de accuracy muy altos, ya que en ambos casos se llega a un accuracy de cerca del 80%. Es posible observar, además, que es mejor iniciar el modelo con los pesos obtenidos en la parte uno. Esto se evidencia en el accuracy obtenido en las primeras épocas, ya que desde el inicio se logra un buen valor de accuracy, mientras que al entrenar el modelo con pesos aleatorios se logra un buen accuracy después de varias épocas. Esto nos permite pensar que, al entrenar el modelo con los pesos obtenidos anteriormente, como se inicia obteniendo valores altos de accuracy desde la primera época, en este tipo de red sería posible entrenar con menos épocas, y hacer un modelo más simple, ya que hacer un modelo más complejo podría llevarnos a un overfitting. Además, se evidencia que tanto al iniciar el modelo con pesos aleatorios como con los pesos de la parte uno, se obtiene un valor de loss muy bajo en cada una de las épocas."
   ]
  },
  {
   "cell_type": "markdown",
   "id": "a0180a9c",
   "metadata": {},
   "source": [
    "## Conclusiones \n",
    "\n",
    "- Se observa que clasificar primero por frases, y después por palabras, es mucho mejor en términos de accuracy y loss que clasificar con un solo label por comentario, que fue lo realizado en la parte uno. Esto se debe a que, al clasificar de la forma en que se hizo en la parte dos, se permite que la red comprenda mejor el patrón de los datos, ya que la información es mucho más específica para acda palabra. \n",
    "\n",
    "- Los pesos de uan tarea sí ayudan a la otra. Esto se evidencia al momento de entrenar el modelo de la parte dos con los pesos obtenidos en la parte uno, ya que, a pesar de que el accuracy al final de las épocas es muy similar al obtenido con los pesos aleatorios, este accuracy empieza siendo alto desde la primera época, mientras que en el otro caso no.\n",
    "\n",
    "- No es posible determinar, a partir de los pesos, qué parte del texto aporta más al momento de determinar el label del comentario, en la parte uno. Esto se debe a que, para hacer el *embedding*, no hay una correspondencia entre las palabras y los pesos en las diferentes capas de la red.Sin embargo, debido a los patrones identificados con ciertas palabras, se evidencia que hay algunas palabras que son más importantes al momento de calcular la clase, y esta importancia se asocia a la frecuencia con la que aparecen estas palabras en el texto, al entrenar el modelo."
   ]
  }
 ],
 "metadata": {
  "accelerator": "GPU",
  "colab": {
   "collapsed_sections": [],
   "name": "Proyecto2_comentado.ipynb",
   "provenance": []
  },
  "kernelspec": {
   "display_name": "Python 3 (ipykernel)",
   "language": "python",
   "name": "python3"
  },
  "language_info": {
   "codemirror_mode": {
    "name": "ipython",
    "version": 3
   },
   "file_extension": ".py",
   "mimetype": "text/x-python",
   "name": "python",
   "nbconvert_exporter": "python",
   "pygments_lexer": "ipython3",
   "version": "3.7.9"
  }
 },
 "nbformat": 4,
 "nbformat_minor": 5
}
